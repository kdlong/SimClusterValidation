{
 "cells": [
  {
   "cell_type": "code",
   "execution_count": 1,
   "metadata": {},
   "outputs": [],
   "source": [
    "import uproot\n",
    "from uproot_methods.classes import TLorentzVector\n",
    "from matplotlib import pyplot as plt\n",
    "from mpl_toolkits.mplot3d import Axes3D\n",
    "import helpers"
   ]
  },
  {
   "cell_type": "code",
   "execution_count": 2,
   "metadata": {},
   "outputs": [],
   "source": [
    "rtfile = uproot.open(\"/eos/cms/store/cmst3/group/hgcal/CMG_studies/kelong/GeantTruthStudy/SimClusterNtuples/test_ExactShoot5PartWPions_seed0_nano.root\")"
   ]
  },
  {
   "cell_type": "code",
   "execution_count": 3,
   "metadata": {},
   "outputs": [],
   "source": [
    "gen = rtfile[\"Events\"].pandas.df([\"GenPart*\"], flatten=True)\n",
    "genVtx = rtfile[\"Events\"].pandas.df([\"GenVtx*\"], flatten=True)\n",
    "tracking = rtfile[\"Events\"].pandas.df([\"Tracking*\"], flatten=True)"
   ]
  },
  {
   "cell_type": "code",
   "execution_count": 4,
   "metadata": {},
   "outputs": [
    {
     "name": "stdout",
     "output_type": "stream",
     "text": [
      "4.5729394e-09 9.6843e-09 9.6843e-09\n"
     ]
    }
   ],
   "source": [
    "vtx_x = genVtx.GenVtx_x[0]\n",
    "vtx_y = genVtx.GenVtx_y[0]\n",
    "vtx_z = genVtx.GenVtx_z[0]\n",
    "print(vtx_x, vtx_y, vtx_y)"
   ]
  },
  {
   "cell_type": "code",
   "execution_count": 5,
   "metadata": {},
   "outputs": [
    {
     "data": {
      "text/plain": [
       "(9.46875, -2.6015625)"
      ]
     },
     "execution_count": 5,
     "metadata": {},
     "output_type": "execute_result"
    }
   ],
   "source": [
    "gen.GenPart_pt[0][0], gen.GenPart_eta[0][0]"
   ]
  },
  {
   "cell_type": "code",
   "execution_count": 8,
   "metadata": {},
   "outputs": [],
   "source": [
    "import numpy as np\n",
    "import math"
   ]
  },
  {
   "cell_type": "code",
   "execution_count": 81,
   "metadata": {},
   "outputs": [
    {
     "data": {
      "text/plain": [
       "<module 'helpers' from '/eos/home-k/kelong/SWAN_projects/MLRecoTruth/SimClusterValidation/helpers.py'>"
      ]
     },
     "execution_count": 81,
     "metadata": {},
     "output_type": "execute_result"
    }
   ],
   "source": [
    "from importlib import reload\n",
    "reload(helpers)"
   ]
  },
  {
   "cell_type": "code",
   "execution_count": 7,
   "metadata": {},
   "outputs": [],
   "source": []
  },
  {
   "cell_type": "code",
   "execution_count": 27,
   "metadata": {},
   "outputs": [],
   "source": []
  },
  {
   "cell_type": "code",
   "execution_count": 94,
   "metadata": {},
   "outputs": [],
   "source": []
  },
  {
   "cell_type": "code",
   "execution_count": 17,
   "metadata": {},
   "outputs": [],
   "source": [
    "simHitsHGCEE = rtfile[\"Events\"].pandas.df([\"SimHitHGCEE*\"], flatten=True)\n",
    "simHitsHGCHEfront = rtfile[\"Events\"].pandas.df([\"SimHitHGCHEfront*\"], flatten=True)#, entrystart=start, entrystop=start+1)\n",
    "simHitsHGCHEback = rtfile[\"Events\"].pandas.df([\"SimHitHGCHEback*\"], flatten=True)#, entrystart=start, entrystop=start+1)\n",
    "simClusters = rtfile[\"Events\"].pandas.df([\"SimCluster*\"], flatten=True)\n",
    "simHitsPixelEC = rtfile[\"Events\"].pandas.df([\"SimHitPixelEC*\"], flatten=True)\n",
    "simHitsPixel = rtfile[\"Events\"].pandas.df([\"SimHitPixelLowTof*\"], flatten=True)\n",
    "simHitsCSC = rtfile[\"Events\"].pandas.df([\"SimHitMuon*\"], flatten=True)"
   ]
  },
  {
   "cell_type": "code",
   "execution_count": 12,
   "metadata": {},
   "outputs": [],
   "source": [
    "colormap = {-1 : 'grey', 111 : \"red\", 211 : 'blue', 11 : 'green', 13 : 'orange', 22 : \"lightblue\", \n",
    "            2112 : \"pink\", 2212 : \"pink\"}"
   ]
  },
  {
   "cell_type": "code",
   "execution_count": 94,
   "metadata": {},
   "outputs": [],
   "source": [
    "evt = 3\n",
    "endcap = \"-\"\n",
    "pixelec = helpers.hitPositionArray(simHitsPixelEC, \"SimHitPixelECLowTof\", evt, endcap)\n",
    "pixel = helpers.hitPositionArray(simHitsPixel, \"SimHitPixelLowTof\", evt, endcap)\n",
    "muon = helpers.hitPositionArray(simHitsCSC, \"SimHitMuonCSC\", evt, endcap)\n",
    "\n",
    "colors_ec = helpers.colorsFromIds(helpers.idFromHit(simHitsPixelEC, \"SimHitPixelECLowTof\", evt, endcap))\n",
    "colors_pix = helpers.colorsFromIds(helpers.idFromHit(simHitsPixel, \"SimHitPixelLowTof\", evt, endcap))\n",
    "colors_mu = helpers.colorsFromIds(helpers.idFromHit(simHitsCSC, \"SimHitMuonCSC\", evt, endcap))"
   ]
  },
  {
   "cell_type": "code",
   "execution_count": 52,
   "metadata": {},
   "outputs": [
    {
     "data": {
      "text/plain": [
       "119.01826477050781"
      ]
     },
     "execution_count": 52,
     "metadata": {},
     "output_type": "execute_result"
    }
   ],
   "source": [
    "max(pixel[:,2])"
   ]
  },
  {
   "cell_type": "code",
   "execution_count": null,
   "metadata": {},
   "outputs": [],
   "source": []
  },
  {
   "cell_type": "code",
   "execution_count": null,
   "metadata": {},
   "outputs": [],
   "source": []
  },
  {
   "cell_type": "code",
   "execution_count": null,
   "metadata": {
    "scrolled": false
   },
   "outputs": [
    {
     "name": "stdout",
     "output_type": "stream",
     "text": [
      "22 1.90625 0\n",
      "-11 9.03125 1\n",
      "13 9.4375 -1\n",
      "211 31.125 1\n",
      "111 2.96875 0\n",
      "22 3.4453125 0\n",
      "-11 24.9375 1\n",
      "13 6.4375 -1\n",
      "211 14.40625 1\n",
      "111 11.1875 0\n",
      "6171 45\n",
      "298 45\n",
      "1381 45\n"
     ]
    },
    {
     "data": {
      "text/plain": [
       "Text(0.5, 0, 'y pos')"
      ]
     },
     "execution_count": 95,
     "metadata": {},
     "output_type": "execute_result"
    }
   ],
   "source": [
    "fig = plt.figure(figsize=[10, 10])\n",
    "ax = fig.add_subplot(111, projection='3d')\n",
    "\n",
    "for i in range(0, len(gen.GenPart_pdgId[evt])):\n",
    "    charge = gen.GenPart_charge[evt][i]\n",
    "    func = helpers.chargedTrajectory if charge != 0 else helpers.neutralTrajectory\n",
    "    print(gen.GenPart_pdgId[evt][i], gen.GenPart_pt[evt][i], gen.GenPart_charge[evt][i])\n",
    "    if (gen.GenPart_eta[evt][i] > 0 and endcap == \"-\") or (gen.GenPart_eta[evt][i] < 0 and endcap == \"+\"):\n",
    "        continue\n",
    "    pdgid = gen.GenPart_pdgId[evt][i]\n",
    "    vertex = np.array([genVtx.GenVtx_x[evt], genVtx.GenVtx_y[evt], genVtx.GenVtx_z[evt]])\n",
    "    momentum = np.array([gen.GenPart_pt[evt][i]*math.cos(gen.GenPart_phi[evt][i]), \n",
    "                        gen.GenPart_pt[evt][i]*math.sin(gen.GenPart_phi[evt][i]), \n",
    "                        gen.GenPart_pt[evt][i]*math.sinh(gen.GenPart_eta[evt][i])])\n",
    "    endz = 500 if momentum[2] > 0 else -500\n",
    "    points = func(vertex, momentum, endz, charge)\n",
    "    color = colormap[abs(pdgid)]\n",
    "    ax.plot(points[:,2], points[:,0], points[:,1], c=color)\n",
    "    \n",
    "simhitsEE = helpers.simHitsAndClusters(simHitsHGCEE[simHitsHGCEE.SimHitHGCEE_z < 0], \"SimHitHGCEE\", simClusters, evt)\n",
    "simhitsHEfront = helpers.simHitsAndClusters(simHitsHGCHEfront[simHitsHGCHEfront.SimHitHGCHEfront_z < 0], \"SimHitHGCHEfront\", simClusters, evt)\n",
    "simhitsHEback = helpers.simHitsAndClusters(simHitsHGCHEback[simHitsHGCHEback.SimHitHGCHEback_z < 0], \"SimHitHGCHEback\", simClusters, evt)\n",
    "nsc = len(simClusters.SimCluster_pdgId[evt])\n",
    "\n",
    "for i in range(-1, nsc):\n",
    "    pdgid = abs(simClusters.SimCluster_pdgId[evt,i]) if i >= 0 else -1\n",
    "    color = colormap[pdgid] if pdgid > 0 else 'lightgrey'\n",
    "    ax.scatter(simhitsEE[i,:,2], simhitsEE[i,:,0], simhitsEE[i,:,1], marker='o', c=color, s=1)\n",
    "    ax.scatter(simhitsHEfront[i,:,2], simhitsHEfront[i,:,0], simhitsHEfront[i,:,1], marker='o', c=color, s=1)\n",
    "    ax.scatter(simhitsHEback[i,:,2], simhitsHEback[i,:,0], simhitsHEback[i,:,1], marker='o', c=color, s=1)\n",
    "\n",
    "ax.scatter(pixel[:,2], pixel[:,0], pixel[:,1], marker='o', c=colors_pix, s=1)\n",
    "ax.scatter(pixelec[:,2], pixelec[:,0], pixelec[:,1], marker='o', c=colors_ec, s=1)\n",
    "ax.scatter(muon[:,2], muon[:,0], muon[:,1], marker='o', c=colors_mu, s=1)    \n",
    "    \n",
    "zlim = [-1000,1000]\n",
    "if endcap == \"+\":\n",
    "    zlim = [0, 1000]\n",
    "elif endcap == \"-\":\n",
    "    zlim = [-1000, 0]\n",
    "ax.set_xlim3d(*zlim)\n",
    "ax.set_ylim3d(-150,150)\n",
    "ax.set_zlim3d(-150,150)\n",
    "ax.set_xlabel('z pos')\n",
    "ax.set_ylabel('x pos')\n",
    "ax.set_zlabel('y pos')"
   ]
  },
  {
   "cell_type": "code",
   "execution_count": null,
   "metadata": {},
   "outputs": [],
   "source": []
  },
  {
   "cell_type": "code",
   "execution_count": null,
   "metadata": {},
   "outputs": [],
   "source": []
  },
  {
   "cell_type": "code",
   "execution_count": 60,
   "metadata": {},
   "outputs": [
    {
     "data": {
      "text/plain": [
       "<matplotlib.collections.PathCollection at 0x7f6df3ecbb50>"
      ]
     },
     "execution_count": 60,
     "metadata": {},
     "output_type": "execute_result"
    },
    {
     "data": {
      "image/png": "[encoded data removed]",
      "text/plain": [
       "<Figure size 720x720 with 1 Axes>"
      ]
     },
     "metadata": {
      "needs_background": "light"
     },
     "output_type": "display_data"
    }
   ],
   "source": [
    "fig = plt.figure(figsize=[10, 10])\n",
    "ax = fig.add_subplot(111)\n",
    "ax.scatter(points[:,2], points[:,0], color='blue')\n",
    "ax.scatter(pixel[:,2], pixel[:,0], color='black')"
   ]
  },
  {
   "cell_type": "code",
   "execution_count": 87,
   "metadata": {},
   "outputs": [
    {
     "name": "stdout",
     "output_type": "stream",
     "text": [
      "22 14.96875\n",
      "-11 15.71875\n",
      "13 25.0\n",
      "211 5.890625\n",
      "111 3.1328125\n",
      "22 7.375\n",
      "-11 21.0625\n",
      "13 12.90625\n",
      "211 11.09375\n",
      "111 20.8125\n"
     ]
    }
   ],
   "source": [
    "for i in range(0, 10):\n",
    "    pdgid = gen.GenPart_pdgId[evt][i]\n",
    "    pt = gen.GenPart_pt[evt][i]\n",
    "    print (pdgid, pt)"
   ]
  }
 ],
 "metadata": {
  "kernelspec": {
   "display_name": "Python 3",
   "language": "python",
   "name": "python3"
  },
  "language_info": {
   "codemirror_mode": {
    "name": "ipython",
    "version": 3
   },
   "file_extension": ".py",
   "mimetype": "text/x-python",
   "name": "python",
   "nbconvert_exporter": "python",
   "pygments_lexer": "ipython3",
   "version": "3.7.6"
  }
 },
 "nbformat": 4,
 "nbformat_minor": 4
}
