{
 "cells": [
  {
   "cell_type": "code",
   "execution_count": null,
   "id": "vietnamese-indication",
   "metadata": {},
   "outputs": [],
   "source": [
    "'''Example use for plotting visualization for HGCAL reconstruction: https://github.com/kdlong/SimClusterValidation\n",
    "\n",
    "Options are documented when calling --help on the makePlot.py script (output below)\n",
    "\n",
    "This code can be run from SWAN, for example. First clone the repository linked above, then open this file (Vizualization.ipynb) and verify that it works for you.\n",
    "\n",
    "Script must be run on NanoHGCML ntuples. Setup described here: https://github.com/kdlong/production_tests\n",
    "\n",
    "Contact kenneth.long@cern.ch if you would like access to the /eos ntuples in this example.\n",
    "'''"
   ]
  },
  {
   "cell_type": "code",
   "execution_count": 8,
   "id": "alternate-illustration",
   "metadata": {},
   "outputs": [
    {
     "name": "stdout",
     "output_type": "stream",
     "text": [
      "Collecting uproot3\n",
      "\u001b[?25l  Downloading https://files.pythonhosted.org/packages/ae/30/75d3ecda0d09f5aed7588f545798bea92e88f8f241218d9f2df612600df8/uproot3-3.14.2-py3-none-any.whl (117kB)\n",
      "\u001b[K     |████████████████████████████████| 122kB 7.9MB/s eta 0:00:01\n",
      "\u001b[?25hCollecting awkward0 (from uproot3)\n",
      "\u001b[?25l  Downloading https://files.pythonhosted.org/packages/9f/2a/bea4f48fe068163dae7c086d7c16a88a56264acd6ac66a0c737d90840ecb/awkward0-0.15.3-py3-none-any.whl (87kB)\n",
      "\u001b[K     |████████████████████████████████| 92kB 8.1MB/s  eta 0:00:01\n",
      "\u001b[?25hRequirement already satisfied: cachetools in /cvmfs/sft.cern.ch/lcg/views/LCG_97apython3/x86_64-centos7-gcc8-opt/lib/python3.7/site-packages (from uproot3) (3.1.1)\n",
      "Requirement already satisfied: numpy>=1.13.1 in /cvmfs/sft.cern.ch/lcg/views/LCG_97apython3/x86_64-centos7-gcc8-opt/lib/python3.7/site-packages (from uproot3) (1.16.4)\n",
      "Collecting uproot3-methods (from uproot3)\n",
      "  Downloading https://files.pythonhosted.org/packages/b7/bc/0cc6e815361218923dc27e8f511036d6d96ab366ea25994a89ac9ac9ba6f/uproot3_methods-0.10.0-py3-none-any.whl\n",
      "Installing collected packages: awkward0, uproot3-methods, uproot3\n",
      "Successfully installed awkward0-0.15.3 uproot3-3.14.2 uproot3-methods-0.10.0\n",
      "Note: you may need to restart the kernel to use updated packages.\n"
     ]
    }
   ],
   "source": [
    "pip install uproot3 --user"
   ]
  },
  {
   "cell_type": "code",
   "execution_count": 58,
   "id": "catholic-finance",
   "metadata": {},
   "outputs": [
    {
     "name": "stdout",
     "output_type": "stream",
     "text": [
      "The autoreload extension is already loaded. To reload it, use:\n",
      "  %reload_ext autoreload\n"
     ]
    }
   ],
   "source": [
    "%load_ext autoreload\n",
    "%autoreload 2\n",
    "import makePlot"
   ]
  },
  {
   "cell_type": "code",
   "execution_count": 69,
   "id": "confidential-shannon",
   "metadata": {},
   "outputs": [
    {
     "name": "stdout",
     "output_type": "stream",
     "text": [
      "usage: makePlot.py [-h] -e [EVENTS [EVENTS ...]] -o OUTFILE [-p PATH]\n",
      "                   [-s SUBFOLDER] [-m] [--noTrackHits] [--tracking] [--tracks]\n",
      "                   [--caloPart] [--ticl] [--pf] [--gen] [--rechits]\n",
      "                   [--colorBy {pdgId,pfcand,mergedsimclus,simclus,calopart}]\n",
      "                   [--simclus {none,merged,default}] [--simtracks] [--default]\n",
      "                   [-j NCORES] [-c CUT] [-f INPUTFILE]\n",
      "\n",
      "optional arguments:\n",
      "  -h, --help            show this help message and exit\n",
      "  -e [EVENTS [EVENTS ...]], --events [EVENTS [EVENTS ...]]\n",
      "                        Which event to plot\n",
      "  -o OUTFILE, --outfile OUTFILE\n",
      "                        Name of output file\n",
      "  -p PATH, --path PATH  output path\n",
      "  -s SUBFOLDER, --subfolder SUBFOLDER\n",
      "                        append folder to output path\n",
      "  -m, --movie           Produce scan in angle that can be made into a movie\n",
      "  --noTrackHits         Don't show hits in tracker\n",
      "  --tracking            Don't show tracking particles\n",
      "  --tracks              Don't show reco tracks\n",
      "  --caloPart            Show calo particles\n",
      "  --ticl                Show TICL cands\n",
      "  --pf                  Show PF cands\n",
      "  --gen                 Don't show gen particles\n",
      "  --rechits             Show RecHits instead of SimHits\n",
      "  --colorBy {pdgId,pfcand,mergedsimclus,simclus,calopart}\n",
      "                        Color calo hits by pdgId or SimCluster association\n",
      "  --simclus {none,merged,default}\n",
      "                        Draw (or not) merged or default simClusters\n",
      "  --simtracks           show simtracks\n",
      "  --default             Use default (not fine calo) input\n",
      "  -j NCORES, --nCores NCORES\n",
      "                        Number of cores, currently only for movie making\n",
      "  -c CUT, --cut CUT     Tracking particle pt cut\n",
      "  -f INPUTFILE, --inputFile INPUTFILE\n",
      "                        Input ROOT file, in NanoML format\n"
     ]
    }
   ],
   "source": [
    "%run makePlot.py --help"
   ]
  },
  {
   "cell_type": "code",
   "execution_count": 72,
   "id": "coordinated-travel",
   "metadata": {},
   "outputs": [
    {
     "name": "stderr",
     "output_type": "stream",
     "text": [
      "INFO:root:Wrote file ./test_evt0.html\n",
      "INFO:root:Wrote file ./test_evt1.html\n"
     ]
    }
   ],
   "source": [
    "outfile = \"test\"\n",
    "events = [0, 1]\n",
    "configure = {\"inputFile\" : \"/eos/cms/store/cmst3/group/hgcal/CMG_studies/kelong/GeantTruthStudy/SimClusterNtuples/testNanoML.root\",\n",
    "                \"events\" : [0,1],\n",
    "                \"outfile\" : outfile}\n",
    "out = makePlot.configureAndPlot(**configure)"
   ]
  },
  {
   "cell_type": "code",
   "execution_count": 52,
   "id": "positive-booking",
   "metadata": {},
   "outputs": [],
   "source": [
    "from IPython.core.display import display, HTML\n",
    "from IPython.display import IFrame"
   ]
  },
  {
   "cell_type": "code",
   "execution_count": 77,
   "id": "japanese-climb",
   "metadata": {},
   "outputs": [
    {
     "data": {
      "text/html": [
       "\n",
       "        <iframe\n",
       "            width=\"1000\"\n",
       "            height=\"1000\"\n",
       "            src=\"./test_evt1.html\"\n",
       "            frameborder=\"0\"\n",
       "            allowfullscreen\n",
       "        ></iframe>\n",
       "        "
      ],
      "text/plain": [
       "<IPython.lib.display.IFrame at 0x7f7194772690>"
      ]
     },
     "execution_count": 77,
     "metadata": {},
     "output_type": "execute_result"
    }
   ],
   "source": [
    "ev=1\n",
    "IFrame(src=\"./%s_evt%i.html\" % (outfile, ev), width=1000, height=1000)"
   ]
  },
  {
   "cell_type": "code",
   "execution_count": 79,
   "id": "provincial-ghost",
   "metadata": {},
   "outputs": [
    {
     "name": "stderr",
     "output_type": "stream",
     "text": [
      "INFO:root:Wrote file ./test_RecHits_Tracks_GenPart_evt1.html\n"
     ]
    },
    {
     "data": {
      "text/html": [
       "\n",
       "        <iframe\n",
       "            width=\"1000\"\n",
       "            height=\"1000\"\n",
       "            src=\"./test_RecHits_Tracks_GenPart_evt1.html\"\n",
       "            frameborder=\"0\"\n",
       "            allowfullscreen\n",
       "        ></iframe>\n",
       "        "
      ],
      "text/plain": [
       "<IPython.lib.display.IFrame at 0x7f71b7d5c390>"
      ]
     },
     "execution_count": 79,
     "metadata": {},
     "output_type": "execute_result"
    }
   ],
   "source": [
    "outfile = \"test_RecHits_Tracks_GenPart\"\n",
    "configure = {\"inputFile\" : \"/eos/cms/store/cmst3/group/hgcal/CMG_studies/kelong/GeantTruthStudy/SimClusterNtuples/testNanoML.root\",\n",
    "                \"events\" : [1],\n",
    "                \"outfile\" : outfile,\n",
    "                \"recHits\" : True,\n",
    "                \"tracks\" : True,\n",
    "                \"gen\" : True,\n",
    "                #\"simclus\" : \"default\",\n",
    "            }\n",
    "out = makePlot.configureAndPlot(**configure)\n",
    "IFrame(src=\"./%s_evt%i.html\" % (outfile, ev), width=1000, height=1000)"
   ]
  }
 ],
 "metadata": {
  "kernelspec": {
   "display_name": "Python 3",
   "language": "python",
   "name": "python3"
  },
  "language_info": {
   "codemirror_mode": {
    "name": "ipython",
    "version": 3
   },
   "file_extension": ".py",
   "mimetype": "text/x-python",
   "name": "python",
   "nbconvert_exporter": "python",
   "pygments_lexer": "ipython3",
   "version": "3.7.6"
  }
 },
 "nbformat": 4,
 "nbformat_minor": 5
}
